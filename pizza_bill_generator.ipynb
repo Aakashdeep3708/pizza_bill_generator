{
 "cells": [
  {
   "cell_type": "markdown",
   "id": "34601f4d",
   "metadata": {},
   "source": [
    "### 1st solution"
   ]
  },
  {
   "cell_type": "code",
   "execution_count": 1,
   "id": "23aebe7d",
   "metadata": {},
   "outputs": [
    {
     "name": "stdout",
     "output_type": "stream",
     "text": [
      
     ]
    }
   ],
   "source": [
    "print(\"thank you for choosing our pizza store\")\n",
    "size=input(\"please enter the size? L, M or S :\")\n",
    "if size==\"s\":\n",
    "    price=50\n",
    "    pep=input(\"want to add some pepperoni :\")\n",
    "    if pep==\"y\":\n",
    "        price+=10\n",
    "    else:\n",
    "        print()\n",
    "    cheese=input(\"want to add some extra cheese :\")\n",
    "    if cheese==\"y\":\n",
    "        price+=15\n",
    "        print(f\"your total payment is {price}\")\n",
    "    else:\n",
    "        print(f\"your total payment is {price}\")\n",
    "elif size==\"m\":\n",
    "    price=100\n",
    "    pep=input(\"want to add some pepperoni :\")\n",
    "    if pep==\"y\":\n",
    "        price+=20\n",
    "    else:\n",
    "        print()\n",
    "    cheese=input(\"want to add some extra cheese :\")\n",
    "    if cheese==\"y\":\n",
    "        price+=25\n",
    "        print(f\"your total payment is {price}\")\n",
    "    else:\n",
    "        print(f\"your total payment is {price}\")\n",
    "elif size==\"l\":\n",
    "    price=150\n",
    "    pep=input(\"want to add some pepperoni :\")\n",
    "    if pep==\"y\":\n",
    "        price+=30\n",
    "    else:\n",
    "        print()\n",
    "    cheese=input(\"want to add some extra cheese :\")\n",
    "    if cheese==\"y\":\n",
    "        price+=35\n",
    "        print(f\"your total payment is {price}\")\n",
    "    else:\n",
    "        print(f\"your total payment is {price}\")\n",
    "    "
   ]
  },
  {
   "cell_type": "markdown",
   "id": "64349a3f",
   "metadata": {},
   "source": [
    "### using user defined function"
   ]
  },
  {
   "cell_type": "code",
   "execution_count": 2,
   "id": "1d4783a2",
   "metadata": {},
   "outputs": [
    {
     "name": "stdout",
     "output_type": "stream",
     "text": [
      
     ]
    }
   ],
   "source": [
    "def top(price):    \n",
    "    pep=input(\"want to add some pepperoni :\")\n",
    "    if pep==\"y\":\n",
    "        price+=10\n",
    "    else:\n",
    "        print()\n",
    "    cheese=input(\"want to add some extra cheese :\")\n",
    "    if cheese==\"y\":\n",
    "        price+=15\n",
    "        print(f\"your total payment is {price}\")\n",
    "    else:\n",
    "        print(f\"your total payment is {price}\")\n",
    "        \n",
    "print(\"thank you for choosing our pizza store\")\n",
    "size=input(\"please enter the size? L, M or S :\")\n",
    "if size==\"s\":\n",
    "    price=50\n",
    "    top(price)\n",
    "elif size==\"m\":\n",
    "    price=100\n",
    "    top(price)\n",
    "elif size==\"l\":\n",
    "    price=150\n",
    "    top(price)"
   ]
  },
  {
   "cell_type": "markdown",
   "id": "c8c921b5",
   "metadata": {},
   "source": [
    "### V solution"
   ]
  },
  {
   "cell_type": "code",
   "execution_count": 4,
   "id": "3e1f3287",
   "metadata": {},
   "outputs": [
    {
     "name": "stdout",
     "output_type": "stream",
     "text": [
      
     ]
    }
   ],
   "source": [
    "print(\"thank you for choosing our pizza store\")\n",
    "size=input(\"please enter the size? L, M or S :\")\n",
    "if size==\"s\":\n",
    "    price=50\n",
    "elif size==\"m\":\n",
    "    price=100\n",
    "elif size==\"l\":\n",
    "    price=150\n",
    "\n",
    "pep=input(\"want to add some pepperoni :\")\n",
    "if pep==\"y\":\n",
    "    if size==\"s\":\n",
    "        price+=10\n",
    "    else:\n",
    "        price+=15\n",
    "\n",
    "    \n",
    "cheese=input(\"want to add some cheese :\")\n",
    "if cheese==\"y\":\n",
    "    price+=25\n",
    "\n",
    "print(\"your total bill\", price)\n"
   ]
  },
  {
   "cell_type": "code",
   "execution_count": null,
   "id": "b559ec42",
   "metadata": {},
   "outputs": [],
   "source": []
  }
 ],
 "metadata": {
  "kernelspec": {
   "display_name": "Python 3 (ipykernel)",
   "language": "python",
   "name": "python3"
  },
  "language_info": {
   "codemirror_mode": {
    "name": "ipython",
    "version": 3
   },
   "file_extension": ".py",
   "mimetype": "text/x-python",
   "name": "python",
   "nbconvert_exporter": "python",
   "pygments_lexer": "ipython3",
   "version": "3.11.5"
  }
 },
 "nbformat": 4,
 "nbformat_minor": 5
}
